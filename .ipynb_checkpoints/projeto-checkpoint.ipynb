{
 "cells": [
  {
   "cell_type": "code",
   "execution_count": 1,
   "metadata": {},
   "outputs": [
    {
     "name": "stdout",
     "output_type": "stream",
     "text": [
      "Cole link: https://api.twitter.com/oauth/authorize?oauth_token=5UpMiwAAAAABNeCIAAABeWyQlJc\n"
     ]
    },
    {
     "name": "stdin",
     "output_type": "stream",
     "text": [
      "Digite o PIN 9181203\n"
     ]
    }
   ],
   "source": [
    "from rauth import OAuth1Service\n",
    "import json\n",
    "from pathlib import Path  \n",
    "from dotenv import load_dotenv\n",
    "import os\n",
    "env_path = Path('.') / '.env'\n",
    "load_dotenv(dotenv_path=env_path)\n",
    "\n",
    "# Autenticação com a API\n",
    "try:\n",
    "    read_input = raw_input\n",
    "except NameError:\n",
    "    read_input = input    \n",
    "\n",
    "\n",
    "twitter = OAuth1Service (\n",
    "    name = 'twitter',\n",
    "    consumer_key =  os.getenv(\"consumer_key\"),\n",
    "    consumer_secret = os.getenv('consumer_secret'),\n",
    "    request_token_url='https://api.twitter.com/oauth/request_token', \n",
    "    access_token_url='https://api.twitter.com/oauth/access_token',\n",
    "    authorize_url='https://api.twitter.com/oauth/authorize', \n",
    "    base_url='https://api.twitter.com/1.1/' \n",
    ")\n",
    "\n",
    "request_token, request_token_secret = twitter.get_request_token()\n",
    "\n",
    "authorize_url = twitter.get_authorize_url(request_token)\n",
    "\n",
    "print(\"Cole link: {url}\".format(url=authorize_url))\n",
    "\n",
    "pin = read_input('Digite o PIN')\n",
    "\n",
    "session = twitter.get_auth_session(request_token,request_token_secret,method='POST',data={'oauth_verifier':pin})"
   ]
  },
  {
   "cell_type": "code",
   "execution_count": 4,
   "metadata": {},
   "outputs": [],
   "source": [
    "# Conexão com o banco\n",
    "import mysql.connector\n",
    "\n",
    "cnx = mysql.connector.connect(user=os.getenv('user'), password=os.getenv('password'),\n",
    "                              host=os.getenv('host'),port=os.getenv('port'),\n",
    "                              database = os.getenv('database'))\n",
    "\n",
    "cursor = cnx.cursor()"
   ]
  },
  {
   "cell_type": "code",
   "execution_count": 5,
   "metadata": {},
   "outputs": [],
   "source": [
    "def tweet(id,text,data,retweet,favorite,keyword):\n",
    "    add_tweet = \"INSERT INTO tweet (idTweetApi,textTweet,dataTweet,retweetTweet,favoriteTweet,keyword) VALUES (%s,%s,%s,%s,%s,%s)\"\n",
    "    params = (id,text,data,retweet,favorite,keyword)\n",
    "    cursor.execute(add_tweet,params)\n",
    "    cnx.commit()"
   ]
  },
  {
   "cell_type": "code",
   "execution_count": 6,
   "metadata": {},
   "outputs": [],
   "source": [
    "def user(id,name,location):\n",
    "    add_user = \"INSERT INTO user (idUserTwitter,nameUser,locationUser) VALUES (%s, %s, %s)\"\n",
    "    params = (id,name,location)\n",
    "    cursor.execute(add_user,params)\n",
    "    cnx.commit()"
   ]
  },
  {
   "cell_type": "code",
   "execution_count": 7,
   "metadata": {},
   "outputs": [],
   "source": [
    "import datetime\n",
    "def format_data(data):\n",
    "    if(data.split()[1] == 'Jan'):\n",
    "        mo = 1\n",
    "    elif(data.split()[1] == 'Feb'):\n",
    "        mo = 2\n",
    "    elif(data.split()[1] == 'Mar'):\n",
    "        mo = 3\n",
    "    elif(data.split()[1] == 'Apr'):\n",
    "        mo = 4\n",
    "    elif(data.split()[1] == 'May'):\n",
    "        mo = 5\n",
    "    elif(data.split()[1] == 'Jun'):\n",
    "        mo = 6\n",
    "    elif(data.split()[1] == 'Jul')   :\n",
    "        mo = 7\n",
    "    elif(data.split()[1] == 'Aug'):\n",
    "        mo = 8\n",
    "    elif(data.split()[1] == 'Sep'):\n",
    "        mo = 9\n",
    "    elif(data.split()[1] == 'Oct'):\n",
    "        mo = 10\n",
    "    elif(data.split()[1] == 'Nov'):\n",
    "        mo = 11\n",
    "    elif(data.split()[1] == 'Dec'):\n",
    "        mo = 12\n",
    "    d = int(data.split()[2])\n",
    "    y = int(data.split()[5])\n",
    "    h = int(data.split()[3].split(sep=':')[0])\n",
    "    m = int(data.split()[3].split(sep=':')[1])\n",
    "    s = int(data.split()[3].split(sep=':')[2])\n",
    "    return datetime.datetime(y,mo,d,h,m,s,0)"
   ]
  },
  {
   "cell_type": "code",
   "execution_count": 8,
   "metadata": {},
   "outputs": [],
   "source": [
    "def user_twitter (id_tweet,id_user):\n",
    "    cursor.execute(\"INSERT INTO TweetUser (tweet_idTweet, user_idUser) VALUES (%s,%s)\",(id_tweet,id_user))\n",
    "    cnx.commit()"
   ]
  },
  {
   "cell_type": "code",
   "execution_count": 9,
   "metadata": {},
   "outputs": [],
   "source": [
    "def merge_user(id_user_twitter):\n",
    "    cursor.execute(\"SELECT idUserTwitter FROM user\")\n",
    "    resultado = cursor.fetchall()\n",
    "    for i in resultado:\n",
    "        if i[0] == id_user_twitter:\n",
    "            cursor.execute(\"SELECT idUser FROM user WHERE idUserTwitter = %s\",(id_user_twitter,))\n",
    "            id_user = cursor.fetchall()\n",
    "            return id_user[0][0]\n"
   ]
  },
  {
   "cell_type": "code",
   "execution_count": 10,
   "metadata": {},
   "outputs": [],
   "source": [
    "def merge_tweet(id_tweet_twitter):\n",
    "    cursor.execute(\"SELECT idTweetApi FROM tweet\")\n",
    "    resultado = cursor.fetchall()\n",
    "    for i in resultado:\n",
    "        if i[0] == id_tweet_twitter:\n",
    "            cursor.execute(\"SELECT idTweet FROM tweet WHERE idTweetApi = %s\",(id_tweet_twitter,))\n",
    "            id_tweet = cursor.fetchall()\n",
    "            return id_tweet[0][0]\n",
    "            "
   ]
  },
  {
   "cell_type": "code",
   "execution_count": 11,
   "metadata": {},
   "outputs": [],
   "source": [
    "# Exemplo de busca de tweets\n",
    "def insert_api(keyword):\n",
    "    params = {'q':keyword,'lang':'pt','locale':'br','result_type': 'mixed'\n",
    "             }\n",
    "\n",
    "    r = session.get('search/tweets.json',params=params, verify=True)\n",
    "\n",
    "    for i, tweets in enumerate(r.json()['statuses'],1):\n",
    "        tweet_id = tweets['id']\n",
    "        data_hora = tweets['created_at'],\n",
    "        user_name = tweets['user']['screen_name']\n",
    "        user_id = tweets['user']['id']\n",
    "        rt = tweets['retweet_count']\n",
    "        fav = tweets['favorite_count']\n",
    "        text = tweets['text']\n",
    "        data = format_data(data_hora[0])\n",
    "        location = tweets['user']['location']\n",
    "\n",
    "\n",
    "\n",
    "        id_tweet = merge_tweet(tweet_id)\n",
    "        if id_tweet is None:\n",
    "            tweet(tweet_id,text,data,rt,fav,keyword)\n",
    "            id_tweet = cursor.lastrowid\n",
    "\n",
    "        id_user = merge_user(user_id)\n",
    "        if id_user is None:\n",
    "            user(user_id,user_name,location)\n",
    "            id_user = cursor.lastrowid\n",
    "\n",
    "        user_twitter(id_tweet,id_user)\n"
   ]
  },
  {
   "cell_type": "code",
   "execution_count": 13,
   "metadata": {},
   "outputs": [],
   "source": [
    "insert_api('lockdown')"
   ]
  }
 ],
 "metadata": {
  "kernelspec": {
   "display_name": "Python 3",
   "language": "python",
   "name": "python3"
  },
  "language_info": {
   "codemirror_mode": {
    "name": "ipython",
    "version": 3
   },
   "file_extension": ".py",
   "mimetype": "text/x-python",
   "name": "python",
   "nbconvert_exporter": "python",
   "pygments_lexer": "ipython3",
   "version": "3.8.5"
  }
 },
 "nbformat": 4,
 "nbformat_minor": 4
}
